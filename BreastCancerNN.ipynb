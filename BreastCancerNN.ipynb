{
 "cells": [
  {
   "cell_type": "code",
   "execution_count": 2,
   "metadata": {},
   "outputs": [],
   "source": [
    "from sklearn.datasets import load_breast_cancer\n",
    "from sklearn.model_selection import train_test_split"
   ]
  },
  {
   "cell_type": "code",
   "execution_count": 9,
   "metadata": {},
   "outputs": [
    {
     "data": {
      "text/plain": [
       "array(['malignant', 'benign'], dtype='<U9')"
      ]
     },
     "execution_count": 9,
     "metadata": {},
     "output_type": "execute_result"
    }
   ],
   "source": [
    "whole_data = load_breast_cancer()\n",
    "whole_data.target_names"
   ]
  },
  {
   "cell_type": "code",
   "execution_count": 13,
   "metadata": {},
   "outputs": [],
   "source": [
    "x_data = whole_data.data\n",
    "y_data = whole_data.target"
   ]
  },
  {
   "cell_type": "code",
   "execution_count": 19,
   "metadata": {},
   "outputs": [],
   "source": [
    "x_train, x_test,y_train, y_test = train_test_split(x_data,y_data,test_size = 0.3, random_state = 7)"
   ]
  },
  {
   "cell_type": "code",
   "execution_count": 48,
   "metadata": {},
   "outputs": [
    {
     "name": "stdout",
     "output_type": "stream",
     "text": [
      "(398, 30)\n",
      "(398,)\n",
      "(171, 30)\n",
      "(171,)\n"
     ]
    }
   ],
   "source": [
    "print(x_train.shape)\n",
    "print(y_train.shape)\n",
    "print(x_test.shape)\n",
    "print(y_test.shape)"
   ]
  },
  {
   "cell_type": "markdown",
   "metadata": {},
   "source": [
    "## classification"
   ]
  },
  {
   "cell_type": "code",
   "execution_count": 44,
   "metadata": {},
   "outputs": [
    {
     "name": "stdout",
     "output_type": "stream",
     "text": [
      "              precision    recall  f1-score   support\n",
      "\n",
      "           0       0.96      0.91      0.93        55\n",
      "           1       0.96      0.98      0.97       116\n",
      "\n",
      "    accuracy                           0.96       171\n",
      "   macro avg       0.96      0.95      0.95       171\n",
      "weighted avg       0.96      0.96      0.96       171\n",
      "\n"
     ]
    },
    {
     "data": {
      "text/plain": [
       "array([[ 50,   5],\n",
       "       [  2, 114]])"
      ]
     },
     "execution_count": 44,
     "metadata": {},
     "output_type": "execute_result"
    }
   ],
   "source": [
    "from sklearn import metrics\n",
    "from sklearn.neighbors import KNeighborsClassifier\n",
    "clf = KNeighborsClassifier(n_neighbors = 9)\n",
    "clf.fit(x_train,y_train)\n",
    "y_pred = clf.predict(x_test)\n",
    "print(metrics.classification_report(y_test,y_pred))\n",
    "metrics.confusion_matrix(y_test,y_pred)"
   ]
  },
  {
   "cell_type": "code",
   "execution_count": 47,
   "metadata": {},
   "outputs": [
    {
     "name": "stdout",
     "output_type": "stream",
     "text": [
      "              precision    recall  f1-score   support\n",
      "\n",
      "           0       0.88      0.82      0.85        55\n",
      "           1       0.92      0.95      0.93       116\n",
      "\n",
      "    accuracy                           0.91       171\n",
      "   macro avg       0.90      0.88      0.89       171\n",
      "weighted avg       0.91      0.91      0.91       171\n",
      "\n"
     ]
    },
    {
     "data": {
      "text/plain": [
       "array([[110,   6],\n",
       "       [ 10,  45]])"
      ]
     },
     "execution_count": 47,
     "metadata": {},
     "output_type": "execute_result"
    }
   ],
   "source": [
    "from sklearn.tree import DecisionTreeClassifier\n",
    "clf = DecisionTreeClassifier(random_state = 5)\n",
    "clf.fit(x_train,y_train)\n",
    "y_pred = clf.predict(x_test)\n",
    "print(metrics.classification_report(y_test,y_pred))\n",
    "metrics.confusion_matrix(y_test,y_pred,labels=[1,0])"
   ]
  },
  {
   "cell_type": "markdown",
   "metadata": {},
   "source": [
    "## implementing NN"
   ]
  },
  {
   "cell_type": "code",
   "execution_count": 55,
   "metadata": {},
   "outputs": [],
   "source": [
    "from tensorflow import keras"
   ]
  },
  {
   "cell_type": "code",
   "execution_count": 58,
   "metadata": {},
   "outputs": [],
   "source": [
    "from tensorflow.keras.models import Sequential\n",
    "from tensorflow.keras.layers import Dense,Activation\n",
    "model = Sequential()\n",
    "model.add(Dense(10,input_shape = (30,),activation = 'sigmoid'))\n",
    "model.add(Dense(10, activation = 'sigmoid'))\n",
    "model.add(Dense(10, activation = 'sigmoid'))\n",
    "model.add(Dense(1))"
   ]
  },
  {
   "cell_type": "code",
   "execution_count": 59,
   "metadata": {},
   "outputs": [
    {
     "name": "stdout",
     "output_type": "stream",
     "text": [
      "Model: \"sequential\"\n",
      "_________________________________________________________________\n",
      "Layer (type)                 Output Shape              Param #   \n",
      "=================================================================\n",
      "dense (Dense)                (None, 10)                310       \n",
      "_________________________________________________________________\n",
      "dense_1 (Dense)              (None, 10)                110       \n",
      "_________________________________________________________________\n",
      "dense_2 (Dense)              (None, 10)                110       \n",
      "_________________________________________________________________\n",
      "dense_3 (Dense)              (None, 1)                 11        \n",
      "=================================================================\n",
      "Total params: 541\n",
      "Trainable params: 541\n",
      "Non-trainable params: 0\n",
      "_________________________________________________________________\n"
     ]
    }
   ],
   "source": [
    "model.summary()"
   ]
  },
  {
   "cell_type": "code",
   "execution_count": 60,
   "metadata": {},
   "outputs": [],
   "source": [
    "from tensorflow.keras import optimizers\n",
    "sgd = optimizers.SGD(lr = 0.01) # stochastic gradient descent optimizer"
   ]
  },
  {
   "cell_type": "code",
   "execution_count": 63,
   "metadata": {},
   "outputs": [],
   "source": [
    "model.compile(optimizer = 'sgd',loss = 'binary_crossentropy',metrics=['accuracy']) "
   ]
  },
  {
   "cell_type": "code",
   "execution_count": 64,
   "metadata": {},
   "outputs": [
    {
     "name": "stdout",
     "output_type": "stream",
     "text": [
      "Epoch 1/100\n",
      "8/8 [==============================] - 0s 814us/step - loss: 0.6715 - accuracy: 0.6055\n",
      "Epoch 2/100\n",
      "8/8 [==============================] - 0s 945us/step - loss: 0.6720 - accuracy: 0.6055\n",
      "Epoch 3/100\n",
      "8/8 [==============================] - 0s 753us/step - loss: 0.6722 - accuracy: 0.6055\n",
      "Epoch 4/100\n",
      "8/8 [==============================] - 0s 1ms/step - loss: 0.6713 - accuracy: 0.6055\n",
      "Epoch 5/100\n",
      "8/8 [==============================] - 0s 1ms/step - loss: 0.6727 - accuracy: 0.6055\n",
      "Epoch 6/100\n",
      "8/8 [==============================] - 0s 773us/step - loss: 0.6715 - accuracy: 0.6055\n",
      "Epoch 7/100\n",
      "8/8 [==============================] - 0s 1ms/step - loss: 0.6720 - accuracy: 0.6055\n",
      "Epoch 8/100\n",
      "8/8 [==============================] - 0s 1ms/step - loss: 0.6711 - accuracy: 0.6055\n",
      "Epoch 9/100\n",
      "8/8 [==============================] - 0s 778us/step - loss: 0.6713 - accuracy: 0.6055\n",
      "Epoch 10/100\n",
      "8/8 [==============================] - 0s 1ms/step - loss: 0.6715 - accuracy: 0.6055\n",
      "Epoch 11/100\n",
      "8/8 [==============================] - 0s 971us/step - loss: 0.6719 - accuracy: 0.6055\n",
      "Epoch 12/100\n",
      "8/8 [==============================] - 0s 793us/step - loss: 0.6725 - accuracy: 0.6055\n",
      "Epoch 13/100\n",
      "8/8 [==============================] - 0s 1ms/step - loss: 0.6718 - accuracy: 0.6055\n",
      "Epoch 14/100\n",
      "8/8 [==============================] - 0s 790us/step - loss: 0.6711 - accuracy: 0.6055\n",
      "Epoch 15/100\n",
      "8/8 [==============================] - 0s 962us/step - loss: 0.6709 - accuracy: 0.6055\n",
      "Epoch 16/100\n",
      "8/8 [==============================] - 0s 967us/step - loss: 0.6719 - accuracy: 0.6055\n",
      "Epoch 17/100\n",
      "8/8 [==============================] - 0s 798us/step - loss: 0.6717 - accuracy: 0.6055\n",
      "Epoch 18/100\n",
      "8/8 [==============================] - 0s 1ms/step - loss: 0.6713 - accuracy: 0.6055\n",
      "Epoch 19/100\n",
      "8/8 [==============================] - 0s 809us/step - loss: 0.6714 - accuracy: 0.6055\n",
      "Epoch 20/100\n",
      "8/8 [==============================] - 0s 858us/step - loss: 0.6709 - accuracy: 0.6055\n",
      "Epoch 21/100\n",
      "8/8 [==============================] - 0s 1ms/step - loss: 0.6718 - accuracy: 0.6055\n",
      "Epoch 22/100\n",
      "8/8 [==============================] - 0s 772us/step - loss: 0.6711 - accuracy: 0.6055\n",
      "Epoch 23/100\n",
      "8/8 [==============================] - 0s 1ms/step - loss: 0.6707 - accuracy: 0.6055\n",
      "Epoch 24/100\n",
      "8/8 [==============================] - 0s 1ms/step - loss: 0.6714 - accuracy: 0.6055\n",
      "Epoch 25/100\n",
      "8/8 [==============================] - 0s 712us/step - loss: 0.6711 - accuracy: 0.6055\n",
      "Epoch 26/100\n",
      "8/8 [==============================] - 0s 1ms/step - loss: 0.6725 - accuracy: 0.6055\n",
      "Epoch 27/100\n",
      "8/8 [==============================] - 0s 1ms/step - loss: 0.6717 - accuracy: 0.6055\n",
      "Epoch 28/100\n",
      "8/8 [==============================] - 0s 782us/step - loss: 0.6710 - accuracy: 0.6055\n",
      "Epoch 29/100\n",
      "8/8 [==============================] - 0s 1ms/step - loss: 0.6710 - accuracy: 0.6055\n",
      "Epoch 30/100\n",
      "8/8 [==============================] - 0s 1ms/step - loss: 0.6719 - accuracy: 0.6055\n",
      "Epoch 31/100\n",
      "8/8 [==============================] - 0s 750us/step - loss: 0.6712 - accuracy: 0.6055\n",
      "Epoch 32/100\n",
      "8/8 [==============================] - 0s 1ms/step - loss: 0.6712 - accuracy: 0.6055\n",
      "Epoch 33/100\n",
      "8/8 [==============================] - 0s 858us/step - loss: 0.6706 - accuracy: 0.6055\n",
      "Epoch 34/100\n",
      "8/8 [==============================] - 0s 816us/step - loss: 0.6717 - accuracy: 0.6055\n",
      "Epoch 35/100\n",
      "8/8 [==============================] - 0s 1ms/step - loss: 0.6725 - accuracy: 0.6055\n",
      "Epoch 36/100\n",
      "8/8 [==============================] - 0s 835us/step - loss: 0.6709 - accuracy: 0.6055\n",
      "Epoch 37/100\n",
      "8/8 [==============================] - 0s 910us/step - loss: 0.6719 - accuracy: 0.6055\n",
      "Epoch 38/100\n",
      "8/8 [==============================] - 0s 1ms/step - loss: 0.6711 - accuracy: 0.6055\n",
      "Epoch 39/100\n",
      "8/8 [==============================] - 0s 775us/step - loss: 0.6715 - accuracy: 0.6055\n",
      "Epoch 40/100\n",
      "8/8 [==============================] - 0s 1ms/step - loss: 0.6706 - accuracy: 0.6055\n",
      "Epoch 41/100\n",
      "8/8 [==============================] - 0s 1ms/step - loss: 0.6711 - accuracy: 0.6055\n",
      "Epoch 42/100\n",
      "8/8 [==============================] - 0s 707us/step - loss: 0.6712 - accuracy: 0.6055\n",
      "Epoch 43/100\n",
      "8/8 [==============================] - 0s 1ms/step - loss: 0.6722 - accuracy: 0.6055\n",
      "Epoch 44/100\n",
      "8/8 [==============================] - 0s 1ms/step - loss: 0.6711 - accuracy: 0.6055\n",
      "Epoch 45/100\n",
      "8/8 [==============================] - 0s 890us/step - loss: 0.6705 - accuracy: 0.6055\n",
      "Epoch 46/100\n",
      "8/8 [==============================] - 0s 1ms/step - loss: 0.6716 - accuracy: 0.6055\n",
      "Epoch 47/100\n",
      "8/8 [==============================] - 0s 1ms/step - loss: 0.6712 - accuracy: 0.6055\n",
      "Epoch 48/100\n",
      "8/8 [==============================] - 0s 703us/step - loss: 0.6708 - accuracy: 0.6055\n",
      "Epoch 49/100\n",
      "8/8 [==============================] - 0s 946us/step - loss: 0.6724 - accuracy: 0.6055\n",
      "Epoch 50/100\n",
      "8/8 [==============================] - 0s 1ms/step - loss: 0.6710 - accuracy: 0.6055\n",
      "Epoch 51/100\n",
      "8/8 [==============================] - 0s 1ms/step - loss: 0.6720 - accuracy: 0.6055\n",
      "Epoch 52/100\n",
      "8/8 [==============================] - 0s 755us/step - loss: 0.6717 - accuracy: 0.6055\n",
      "Epoch 53/100\n",
      "8/8 [==============================] - 0s 1ms/step - loss: 0.6710 - accuracy: 0.6055\n",
      "Epoch 54/100\n",
      "8/8 [==============================] - 0s 731us/step - loss: 0.6716 - accuracy: 0.6055\n",
      "Epoch 55/100\n",
      "8/8 [==============================] - 0s 1ms/step - loss: 0.6711 - accuracy: 0.6055\n",
      "Epoch 56/100\n",
      "8/8 [==============================] - 0s 1ms/step - loss: 0.6713 - accuracy: 0.6055\n",
      "Epoch 57/100\n",
      "8/8 [==============================] - 0s 947us/step - loss: 0.6716 - accuracy: 0.6055\n",
      "Epoch 58/100\n",
      "8/8 [==============================] - 0s 647us/step - loss: 0.6713 - accuracy: 0.6055\n",
      "Epoch 59/100\n",
      "8/8 [==============================] - 0s 902us/step - loss: 0.6707 - accuracy: 0.6055\n",
      "Epoch 60/100\n",
      "8/8 [==============================] - 0s 652us/step - loss: 0.6710 - accuracy: 0.6055\n",
      "Epoch 61/100\n",
      "8/8 [==============================] - 0s 966us/step - loss: 0.6709 - accuracy: 0.6055\n",
      "Epoch 62/100\n",
      "8/8 [==============================] - 0s 675us/step - loss: 0.6708 - accuracy: 0.6055\n",
      "Epoch 63/100\n",
      "8/8 [==============================] - 0s 702us/step - loss: 0.6712 - accuracy: 0.6055\n",
      "Epoch 64/100\n",
      "8/8 [==============================] - 0s 772us/step - loss: 0.6714 - accuracy: 0.6055\n",
      "Epoch 65/100\n",
      "8/8 [==============================] - 0s 1ms/step - loss: 0.6712 - accuracy: 0.6055\n",
      "Epoch 66/100\n",
      "8/8 [==============================] - 0s 961us/step - loss: 0.6721 - accuracy: 0.6055\n",
      "Epoch 67/100\n",
      "8/8 [==============================] - 0s 710us/step - loss: 0.6721 - accuracy: 0.6055\n",
      "Epoch 68/100\n",
      "8/8 [==============================] - 0s 995us/step - loss: 0.6722 - accuracy: 0.6055\n",
      "Epoch 69/100\n",
      "8/8 [==============================] - 0s 649us/step - loss: 0.6710 - accuracy: 0.6055\n",
      "Epoch 70/100\n",
      "8/8 [==============================] - 0s 1ms/step - loss: 0.6712 - accuracy: 0.6055\n",
      "Epoch 71/100\n",
      "8/8 [==============================] - 0s 983us/step - loss: 0.6710 - accuracy: 0.6055\n",
      "Epoch 72/100\n",
      "8/8 [==============================] - 0s 748us/step - loss: 0.6705 - accuracy: 0.6055\n",
      "Epoch 73/100\n",
      "8/8 [==============================] - 0s 873us/step - loss: 0.6716 - accuracy: 0.6055\n",
      "Epoch 74/100\n",
      "8/8 [==============================] - 0s 690us/step - loss: 0.6711 - accuracy: 0.6055\n",
      "Epoch 75/100\n",
      "8/8 [==============================] - 0s 925us/step - loss: 0.6708 - accuracy: 0.6055\n",
      "Epoch 76/100\n",
      "8/8 [==============================] - 0s 735us/step - loss: 0.6719 - accuracy: 0.6055\n",
      "Epoch 77/100\n",
      "8/8 [==============================] - 0s 899us/step - loss: 0.6706 - accuracy: 0.6055\n",
      "Epoch 78/100\n",
      "8/8 [==============================] - 0s 649us/step - loss: 0.6712 - accuracy: 0.6055\n",
      "Epoch 79/100\n",
      "8/8 [==============================] - 0s 941us/step - loss: 0.6710 - accuracy: 0.6055\n",
      "Epoch 80/100\n",
      "8/8 [==============================] - 0s 746us/step - loss: 0.6715 - accuracy: 0.6055\n",
      "Epoch 81/100\n",
      "8/8 [==============================] - 0s 961us/step - loss: 0.6726 - accuracy: 0.6055\n",
      "Epoch 82/100\n",
      "8/8 [==============================] - 0s 636us/step - loss: 0.6711 - accuracy: 0.6055\n",
      "Epoch 83/100\n"
     ]
    },
    {
     "name": "stdout",
     "output_type": "stream",
     "text": [
      "8/8 [==============================] - 0s 962us/step - loss: 0.6708 - accuracy: 0.6055\n",
      "Epoch 84/100\n",
      "8/8 [==============================] - 0s 628us/step - loss: 0.6711 - accuracy: 0.6055\n",
      "Epoch 85/100\n",
      "8/8 [==============================] - 0s 882us/step - loss: 0.6706 - accuracy: 0.6055\n",
      "Epoch 86/100\n",
      "8/8 [==============================] - 0s 641us/step - loss: 0.6727 - accuracy: 0.6055\n",
      "Epoch 87/100\n",
      "8/8 [==============================] - 0s 774us/step - loss: 0.6715 - accuracy: 0.6055\n",
      "Epoch 88/100\n",
      "8/8 [==============================] - 0s 800us/step - loss: 0.6711 - accuracy: 0.6055\n",
      "Epoch 89/100\n",
      "8/8 [==============================] - 0s 749us/step - loss: 0.6711 - accuracy: 0.6055\n",
      "Epoch 90/100\n",
      "8/8 [==============================] - 0s 755us/step - loss: 0.6717 - accuracy: 0.6055\n",
      "Epoch 91/100\n",
      "8/8 [==============================] - 0s 704us/step - loss: 0.6717 - accuracy: 0.6055\n",
      "Epoch 92/100\n",
      "8/8 [==============================] - 0s 810us/step - loss: 0.6708 - accuracy: 0.6055\n",
      "Epoch 93/100\n",
      "8/8 [==============================] - 0s 692us/step - loss: 0.6712 - accuracy: 0.6055\n",
      "Epoch 94/100\n",
      "8/8 [==============================] - 0s 745us/step - loss: 0.6715 - accuracy: 0.6055\n",
      "Epoch 95/100\n",
      "8/8 [==============================] - 0s 821us/step - loss: 0.6712 - accuracy: 0.6055\n",
      "Epoch 96/100\n",
      "8/8 [==============================] - 0s 685us/step - loss: 0.6709 - accuracy: 0.6055\n",
      "Epoch 97/100\n",
      "8/8 [==============================] - 0s 759us/step - loss: 0.6707 - accuracy: 0.6055\n",
      "Epoch 98/100\n",
      "8/8 [==============================] - 0s 729us/step - loss: 0.6708 - accuracy: 0.6055\n",
      "Epoch 99/100\n",
      "8/8 [==============================] - 0s 812us/step - loss: 0.6722 - accuracy: 0.6055\n",
      "Epoch 100/100\n",
      "8/8 [==============================] - 0s 685us/step - loss: 0.6705 - accuracy: 0.6055\n"
     ]
    },
    {
     "data": {
      "text/plain": [
       "<tensorflow.python.keras.callbacks.History at 0x7ffd52f5c520>"
      ]
     },
     "execution_count": 64,
     "metadata": {},
     "output_type": "execute_result"
    }
   ],
   "source": [
    "model.fit(x_train, y_train, batch_size = 50, epochs=100 ,verbose = 1)"
   ]
  },
  {
   "cell_type": "code",
   "execution_count": 67,
   "metadata": {
    "scrolled": true
   },
   "outputs": [
    {
     "name": "stdout",
     "output_type": "stream",
     "text": [
      "6/6 [==============================] - 0s 691us/step - loss: 0.6409 - accuracy: 0.6784\n"
     ]
    }
   ],
   "source": [
    "results = model.evaluate(x_test,y_test)"
   ]
  },
  {
   "cell_type": "code",
   "execution_count": 68,
   "metadata": {
    "scrolled": true
   },
   "outputs": [
    {
     "name": "stdout",
     "output_type": "stream",
     "text": [
      "['loss', 'accuracy']\n",
      "[0.6408868432044983, 0.6783625483512878]\n"
     ]
    }
   ],
   "source": [
    "print(model.metrics_names)\n",
    "print(results)"
   ]
  },
  {
   "cell_type": "code",
   "execution_count": null,
   "metadata": {},
   "outputs": [],
   "source": []
  }
 ],
 "metadata": {
  "kernelspec": {
   "display_name": "Python 3",
   "language": "python",
   "name": "python3"
  },
  "language_info": {
   "codemirror_mode": {
    "name": "ipython",
    "version": 3
   },
   "file_extension": ".py",
   "mimetype": "text/x-python",
   "name": "python",
   "nbconvert_exporter": "python",
   "pygments_lexer": "ipython3",
   "version": "3.8.3"
  }
 },
 "nbformat": 4,
 "nbformat_minor": 4
}
